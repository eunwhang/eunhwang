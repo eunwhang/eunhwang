{
  "nbformat": 4,
  "nbformat_minor": 0,
  "metadata": {
    "colab": {
      "provenance": [],
      "authorship_tag": "ABX9TyPiY3efapx1M7puNGa6pzJ/",
      "include_colab_link": true
    },
    "kernelspec": {
      "name": "python3",
      "display_name": "Python 3"
    },
    "language_info": {
      "name": "python"
    }
  },
  "cells": [
    {
      "cell_type": "markdown",
      "metadata": {
        "id": "view-in-github",
        "colab_type": "text"
      },
      "source": [
        "<a href=\"https://colab.research.google.com/github/eunwhang/eunhwang/blob/main/Untitled1.ipynb\" target=\"_parent\"><img src=\"https://colab.research.google.com/assets/colab-badge.svg\" alt=\"Open In Colab\"/></a>"
      ]
    },
    {
      "cell_type": "code",
      "execution_count": null,
      "metadata": {
        "id": "Lo4cXVgzX4xu"
      },
      "outputs": [],
      "source": [
        "!pip install gradio gtts nltk pypng\n",
        "# Step 1: Install required libraries in Colab\n",
        "!pip install gradio wordcloud matplotlib\n",
        "\n",
        "# Step 2: Import the necessary libraries\n",
        "import gradio as gr\n",
        "from wordcloud import WordCloud\n",
        "import matplotlib.pyplot as plt\n",
        "import re\n",
        "import numpy as np\n",
        "from io import BytesIO\n",
        "from PIL import Image\n",
        "\n",
        "# Step 3: Define a function to create the word cloud\n",
        "def generate_wordcloud(text):\n",
        "    # Basic text cleaning: remove special characters and limit text size\n",
        "    text = re.sub(r'[^a-zA-Z\\s]', '', text)  # Remove special characters\n",
        "    if len(text) > 5000:  # Limit the length of the text to prevent errors\n",
        "        text = text[:5000]\n",
        "\n",
        "    try:\n",
        "        # Create a WordCloud object\n",
        "        wordcloud = WordCloud(width=800, height=400, background_color='white').generate(text)\n",
        "\n",
        "        # Convert the WordCloud to an image format that Gradio can display directly\n",
        "        image = wordcloud.to_image()\n",
        "        return image\n",
        "    except Exception as e:\n",
        "        print(f\"Error generating word cloud: {e}\")\n",
        "        return None\n",
        "\n",
        "# Step 4: Set up the Gradio interface\n",
        "interface = gr.Interface(fn=generate_wordcloud,\n",
        "                         inputs=\"text\",\n",
        "                         outputs=\"image\",\n",
        "                         title=\"Word Cloud Generator\",\n",
        "                         description=\"Enter some text to generate a word cloud of the most common words.\")\n",
        "\n",
        "# Step 5: Launch the app\n",
        "interface.launch()\n"
      ]
    }
  ]
}